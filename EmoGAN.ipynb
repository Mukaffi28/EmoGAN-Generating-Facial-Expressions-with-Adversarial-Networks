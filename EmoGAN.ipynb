{
  "cells": [
    {
      "cell_type": "code",
      "execution_count": null,
      "metadata": {
        "id": "6Byi6yLQebww"
      },
      "outputs": [],
      "source": [
        "import albumentations as A\n",
        "from albumentations.pytorch import ToTensorV2\n",
        "import torch\n",
        "DEVICE = \"cuda\" if torch.cuda.is_available() else \"cpu\"\n",
        "\n",
        "BATCH_SIZE = 8\n",
        "LEARNING_RATE = 0.001\n",
        "LAMBDA_IDENTITY = 0.0\n",
        "LAMBDA_CYCLE = 10\n",
        "NUM_WORKERS = 0\n",
        "NUM_EPOCHS = 1\n",
        "LOAD_MODEL = True\n",
        "SAVE_MODEL = True\n",
        "CHECKPOINT_GEN_H = \"D:\\\\Personal Research Dataset\\\\GAN\\\\genh.pth.tar\"\n",
        "CHECKPOINT_GEN_Z = \"D:\\\\Personal Research Dataset\\\\GAN\\\\genz.pth.tar\"\n",
        "CHECKPOINT_CRITIC_H = \"D:\\\\Personal Research Dataset\\\\GAN\\\\critich.pth.tar\"\n",
        "CHECKPOINT_CRITIC_Z = \"D:\\\\Personal Research Dataset\\\\GAN\\\\criticz.pth.tar\""
      ]
    },
    {
      "cell_type": "code",
      "execution_count": null,
      "metadata": {
        "id": "jIdQB0C3-amc"
      },
      "outputs": [],
      "source": [
        "#pip install albumentations"
      ]
    },
    {
      "cell_type": "code",
      "execution_count": null,
      "metadata": {
        "id": "uFF3h1psff4b"
      },
      "outputs": [],
      "source": [
        "transforms = A.Compose(\n",
        "    [\n",
        "        A.Resize(width=256, height=256),\n",
        "        A.HorizontalFlip(p=0.5),\n",
        "        A.Normalize(mean=[0.5, 0.5, 0.5], std=[0.5, 0.5, 0.5], max_pixel_value=255),\n",
        "        ToTensorV2(),\n",
        "    ],\n",
        "    additional_targets={\"image0\": \"image\"},\n",
        ")"
      ]
    },
    {
      "cell_type": "code",
      "execution_count": null,
      "metadata": {
        "id": "GJCoZk2Xfhpk"
      },
      "outputs": [],
      "source": [
        "from PIL import Image\n",
        "import os\n",
        "from torch.utils.data import Dataset\n",
        "import numpy as np\n",
        "\n",
        "class Dset(Dataset):\n",
        "    def __init__(self, root_happy, root_neutral, transform=None):\n",
        "        self.root_happy = root_happy\n",
        "        self.root_neutral = root_neutral\n",
        "        self.transform = transform\n",
        "\n",
        "        self.happy_images = os.listdir(root_happy)\n",
        "        self.neutral_images = os.listdir(root_neutral)\n",
        "        self.length_dataset = max(len(self.happy_images), len(self.neutral_images)) # 1000, 1500\n",
        "        self.happy_len = len(self.happy_images)\n",
        "        self.neutral_len = len(self.neutral_images)\n",
        "\n",
        "    def __len__(self):\n",
        "        return self.length_dataset\n",
        "\n",
        "    def __getitem__(self, index):\n",
        "        happy_img = self.happy_images[index % self.happy_len]\n",
        "        neutral_img = self.neutral_images[index % self.neutral_len]\n",
        "\n",
        "        happy_path = os.path.join(self.root_happy, happy_img)\n",
        "        neutral_path = os.path.join(self.root_neutral, neutral_img)\n",
        "\n",
        "        happy_img = np.array(Image.open(happy_path).convert(\"RGB\"))\n",
        "        neutral_img = np.array(Image.open(neutral_path).convert(\"RGB\"))\n",
        "\n",
        "        if self.transform:\n",
        "            augmentations = self.transform(image=happy_img, image0=neutral_img)\n",
        "            happy_img = augmentations[\"image\"]\n",
        "            neutral_img = augmentations[\"image0\"]\n",
        "\n",
        "        return happy_img, neutral_img"
      ]
    },
    {
      "cell_type": "code",
      "execution_count": null,
      "metadata": {
        "colab": {
          "base_uri": "https://localhost:8080/"
        },
        "id": "G-pjdLsbfoI5",
        "outputId": "276b0ae5-03eb-49c4-bd67-8b33689c9dc3"
      },
      "outputs": [
        {
          "name": "stdout",
          "output_type": "stream",
          "text": [
            "torch.Size([5, 1, 30, 30])\n"
          ]
        }
      ],
      "source": [
        "\n",
        "import torch.nn as nn\n",
        "\n",
        "\n",
        "class Block(nn.Module):\n",
        "    def __init__(self, in_channels, out_channels, stride):\n",
        "        super().__init__()\n",
        "        self.conv = nn.Sequential(\n",
        "            nn.Conv2d(\n",
        "                in_channels,\n",
        "                out_channels,\n",
        "                4,\n",
        "                stride,\n",
        "                1,\n",
        "                bias=True,\n",
        "                padding_mode=\"reflect\",\n",
        "            ),\n",
        "            nn.InstanceNorm2d(out_channels),\n",
        "            nn.LeakyReLU(0.2, inplace=True),\n",
        "        )\n",
        "\n",
        "    def forward(self, x):\n",
        "        return self.conv(x)\n",
        "\n",
        "\n",
        "class Discriminator(nn.Module):\n",
        "    def __init__(self, in_channels=3, features=[64, 128, 256, 512]):\n",
        "        super().__init__()\n",
        "        self.initial = nn.Sequential(\n",
        "            nn.Conv2d(\n",
        "                in_channels,\n",
        "                features[0],\n",
        "                kernel_size=4,\n",
        "                stride=2,\n",
        "                padding=1,\n",
        "                padding_mode=\"reflect\",\n",
        "            ),\n",
        "            nn.LeakyReLU(0.2, inplace=True),\n",
        "        )\n",
        "\n",
        "        layers = []\n",
        "        in_channels = features[0]\n",
        "        for feature in features[1:]:\n",
        "            layers.append(\n",
        "                Block(in_channels, feature, stride=1 if feature == features[-1] else 2)\n",
        "            )\n",
        "            in_channels = feature\n",
        "        layers.append(\n",
        "            nn.Conv2d(\n",
        "                in_channels,\n",
        "                1,\n",
        "                kernel_size=4,\n",
        "                stride=1,\n",
        "                padding=1,\n",
        "                padding_mode=\"reflect\",\n",
        "            )\n",
        "        )\n",
        "        self.model = nn.Sequential(*layers)\n",
        "\n",
        "    def forward(self, x):\n",
        "        x = self.initial(x)\n",
        "        return torch.sigmoid(self.model(x))\n",
        "\n",
        "\n",
        "def test():\n",
        "    x = torch.randn((5, 3, 256, 256))\n",
        "    model = Discriminator(in_channels=3)\n",
        "    preds = model(x)\n",
        "    print(preds.shape)\n",
        "\n",
        "\n",
        "if __name__ == \"__main__\":\n",
        "    test()"
      ]
    },
    {
      "cell_type": "code",
      "execution_count": null,
      "metadata": {
        "colab": {
          "base_uri": "https://localhost:8080/"
        },
        "id": "WGsUKVTKftSf",
        "outputId": "40b3cc02-1350-4a65-b19d-49d1453244a6"
      },
      "outputs": [
        {
          "name": "stdout",
          "output_type": "stream",
          "text": [
            "torch.Size([2, 3, 96, 96])\n"
          ]
        }
      ],
      "source": [
        "class ConvBlock(nn.Module):\n",
        "    def __init__(self, in_channels, out_channels, down=True, use_act=True, **kwargs):\n",
        "        super().__init__()\n",
        "        self.conv = nn.Sequential(\n",
        "            nn.Conv2d(in_channels, out_channels, padding_mode=\"reflect\", **kwargs)\n",
        "            if down\n",
        "            else nn.ConvTranspose2d(in_channels, out_channels, **kwargs),\n",
        "            nn.InstanceNorm2d(out_channels),\n",
        "            nn.ReLU(inplace=True) if use_act else nn.Identity(),\n",
        "        )\n",
        "\n",
        "    def forward(self, x):\n",
        "        return self.conv(x)\n",
        "\n",
        "\n",
        "class ResidualBlock(nn.Module):\n",
        "    def __init__(self, channels):\n",
        "        super().__init__()\n",
        "        self.block = nn.Sequential(\n",
        "            ConvBlock(channels, channels, kernel_size=3, padding=1),\n",
        "            ConvBlock(channels, channels, use_act=False, kernel_size=3, padding=1),\n",
        "        )\n",
        "\n",
        "    def forward(self, x):\n",
        "        return x + self.block(x)\n",
        "\n",
        "\n",
        "class Generator(nn.Module):\n",
        "    def __init__(self, img_channels, num_features=64, num_residuals=9):\n",
        "        super().__init__()\n",
        "        self.initial = nn.Sequential(\n",
        "            nn.Conv2d(\n",
        "                img_channels,\n",
        "                num_features,\n",
        "                kernel_size=7,\n",
        "                stride=1,\n",
        "                padding=3,\n",
        "                padding_mode=\"reflect\",\n",
        "            ),\n",
        "            nn.InstanceNorm2d(num_features),\n",
        "            nn.ReLU(inplace=True),\n",
        "        )\n",
        "        self.down_blocks = nn.ModuleList(\n",
        "            [\n",
        "                ConvBlock(\n",
        "                    num_features, num_features * 2, kernel_size=3, stride=2, padding=1\n",
        "                ),\n",
        "                ConvBlock(\n",
        "                    num_features * 2,\n",
        "                    num_features * 4,\n",
        "                    kernel_size=3,\n",
        "                    stride=2,\n",
        "                    padding=1,\n",
        "                ),\n",
        "            ]\n",
        "        )\n",
        "        self.res_blocks = nn.Sequential(\n",
        "            *[ResidualBlock(num_features * 4) for _ in range(num_residuals)]\n",
        "        )\n",
        "        self.up_blocks = nn.ModuleList(\n",
        "            [\n",
        "                ConvBlock(\n",
        "                    num_features * 4,\n",
        "                    num_features * 2,\n",
        "                    down=False,\n",
        "                    kernel_size=3,\n",
        "                    stride=2,\n",
        "                    padding=1,\n",
        "                    output_padding=1,\n",
        "                ),\n",
        "                ConvBlock(\n",
        "                    num_features * 2,\n",
        "                    num_features * 1,\n",
        "                    down=False,\n",
        "                    kernel_size=3,\n",
        "                    stride=2,\n",
        "                    padding=1,\n",
        "                    output_padding=1,\n",
        "                ),\n",
        "            ]\n",
        "        )\n",
        "\n",
        "        self.last = nn.Conv2d(\n",
        "            num_features * 1,\n",
        "            img_channels,\n",
        "            kernel_size=7,\n",
        "            stride=1,\n",
        "            padding=3,\n",
        "            padding_mode=\"reflect\",\n",
        "        )\n",
        "\n",
        "    def forward(self, x):\n",
        "        x = self.initial(x)\n",
        "        for layer in self.down_blocks:\n",
        "            x = layer(x)\n",
        "        x = self.res_blocks(x)\n",
        "        for layer in self.up_blocks:\n",
        "            x = layer(x)\n",
        "        return torch.tanh(self.last(x))\n",
        "\n",
        "\n",
        "def test():\n",
        "    img_channels = 3\n",
        "    img_size = 96\n",
        "    x = torch.randn((2, img_channels, img_size, img_size))\n",
        "    gen = Generator(img_channels, 9)\n",
        "    print(gen(x).shape)\n",
        "\n",
        "\n",
        "if __name__ == \"__main__\":\n",
        "    test()"
      ]
    },
    {
      "cell_type": "code",
      "execution_count": null,
      "metadata": {
        "id": "QtL1TZ5J-aml"
      },
      "outputs": [],
      "source": [
        "import torch\n",
        "\n",
        "import sys\n",
        "#from utils import save_checkpoint, load_checkpoint\n",
        "from torch.utils.data import DataLoader\n",
        "import torch.nn as nn\n",
        "import torch.optim as optim\n",
        "#import config\n",
        "from tqdm import tqdm\n",
        "from torchvision.utils import save_image\n",
        "#from discriminator_model import Discriminator\n",
        "#from generator_model import Generator\n"
      ]
    },
    {
      "cell_type": "code",
      "execution_count": null,
      "metadata": {
        "id": "8hF2CYob-amn"
      },
      "outputs": [],
      "source": [
        "def train_fn(\n",
        "    disc_H, disc_Z, gen_Z, gen_H, loader, opt_disc, opt_gen, l1, mse, d_scaler, g_scaler\n",
        "):\n",
        "    H_reals = 0\n",
        "    H_fakes = 0\n",
        "    loop = tqdm(loader, leave=True)\n",
        "\n",
        "    for idx, (Happy, Neutral) in enumerate(loop):\n",
        "        Happy = Happy.to(DEVICE)\n",
        "        Neutral = Neutral.to(DEVICE)\n",
        "\n",
        "        # Train Discriminators H and Z\n",
        "        with torch.cuda.amp.autocast():\n",
        "            fake_Neutral = gen_H(Happy)\n",
        "            D_H_real = disc_H(Neutral)\n",
        "            D_H_fake = disc_H(fake_Neutral.detach())\n",
        "            H_reals += D_H_real.mean().item()\n",
        "            H_fakes += D_H_fake.mean().item()\n",
        "            D_H_real_loss = mse(D_H_real, torch.ones_like(D_H_real))\n",
        "            D_H_fake_loss = mse(D_H_fake, torch.zeros_like(D_H_fake))\n",
        "            D_H_loss = D_H_real_loss + D_H_fake_loss\n",
        "\n",
        "            fake_Happy = gen_Z(Neutral)\n",
        "            D_Z_real = disc_Z(Happy)\n",
        "            D_Z_fake = disc_Z(fake_Happy.detach())\n",
        "            D_Z_real_loss = mse(D_Z_real, torch.ones_like(D_Z_real))\n",
        "            D_Z_fake_loss = mse(D_Z_fake, torch.zeros_like(D_Z_fake))\n",
        "            D_Z_loss = D_Z_real_loss + D_Z_fake_loss\n",
        "\n",
        "            # put it togethor\n",
        "            D_loss = (D_H_loss + D_Z_loss) / 2\n",
        "\n",
        "        opt_disc.zero_grad()\n",
        "        d_scaler.scale(D_loss).backward()\n",
        "        d_scaler.step(opt_disc)\n",
        "        d_scaler.update()\n",
        "\n",
        "        # Train Generators H and Z\n",
        "        with torch.cuda.amp.autocast():\n",
        "            # adversarial loss for both generators\n",
        "            D_H_fake = disc_H(fake_Neutral)\n",
        "            D_Z_fake = disc_Z(fake_Happy)\n",
        "            loss_G_H = mse(D_H_fake, torch.ones_like(D_H_fake))\n",
        "            loss_G_Z = mse(D_Z_fake, torch.ones_like(D_Z_fake))\n",
        "\n",
        "            # cycle loss\n",
        "            cycle_Happy= gen_Z(fake_Neutral)\n",
        "            cycle_Neutral = gen_H(fake_Happy)\n",
        "            cycle_Happy_loss = l1(Happy, cycle_Happy)\n",
        "            cycle_Neutral_loss = l1(Neutral, cycle_Neutral)\n",
        "\n",
        "            # identity loss (remove these for efficiency if you set lambda_identity=0)\n",
        "            identity_Happy = gen_Z(Happy)\n",
        "            identity_Neutral = gen_H(Neutral)\n",
        "            identity_Happy_loss = l1(Happy, identity_Happy\n",
        "            identity_Neutral_loss = l1(Neutral, identity_Neutral)\n",
        "\n",
        "            # add all togethor\n",
        "            G_loss = (\n",
        "                loss_G_Z\n",
        "                + loss_G_H\n",
        "                + cycle_Happy_loss * LAMBDA_CYCLE\n",
        "                + cycle_Neutral_loss * LAMBDA_CYCLE\n",
        "                + identity_Neutral_loss * LAMBDA_IDENTITY\n",
        "                + identity_Happy_loss * LAMBDA_IDENTITY\n",
        "            )\n",
        "\n",
        "        opt_gen.zero_grad()\n",
        "        g_scaler.scale(G_loss).backward()\n",
        "        g_scaler.step(opt_gen)\n",
        "        g_scaler.update()\n",
        "                                           #D:\\Personal Research Dataset\\GAN\n",
        "        if idx % 5 == 0:\n",
        "            save_image(fake_Neutral * 0.5 + 0.5, f\"D:\\\\Personal Research Dataset\\\\GAN\\\\Happy{idx}.png\")\n",
        "\n",
        "\n",
        "        loop.set_postfix(H_real=H_reals / (idx + 1), H_fake=H_fakes / (idx + 1))\n",
        "\n"
      ]
    },
    {
      "cell_type": "markdown",
      "metadata": {
        "id": "2uKIZFoL-amp"
      },
      "source": [
        "***SAVE MODEL***"
      ]
    },
    {
      "cell_type": "code",
      "execution_count": null,
      "metadata": {
        "id": "Y1QNQB_B-amr"
      },
      "outputs": [],
      "source": [
        "import random, torch, os, numpy as np\n",
        "import torch.nn as nn\n",
        "import copy\n",
        "\n",
        "def save_checkpoint(model, optimizer, filename=\"D:\\\\Personal Research Dataset\\\\GAN\\\\model.pth.tar\"):\n",
        "    print(\"=> Saving checkpoint\")\n",
        "    checkpoint = {\n",
        "        \"state_dict\": model.state_dict(),\n",
        "        \"optimizer\": optimizer.state_dict(),\n",
        "    }\n",
        "    torch.save(checkpoint, filename)"
      ]
    },
    {
      "cell_type": "markdown",
      "metadata": {
        "id": "RjCVOyF9-ams"
      },
      "source": [
        "**LOAD CHECKPOINT**"
      ]
    },
    {
      "cell_type": "code",
      "execution_count": null,
      "metadata": {
        "id": "H10mbcLI-amt"
      },
      "outputs": [],
      "source": [
        "def load_checkpoint(checkpoint_file, model, optimizer, lr):\n",
        "    print(\"=> Loading checkpoint\")\n",
        "    checkpoint = torch.load(checkpoint_file, map_location=DEVICE)\n",
        "    model.load_state_dict(checkpoint[\"state_dict\"])\n",
        "    optimizer.load_state_dict(checkpoint[\"optimizer\"])\n",
        "\n",
        "    # If we don't do this then it will just have learning rate of old checkpoint\n",
        "    # and it will lead to many hours of debugging \\:\n",
        "    for param_group in optimizer.param_groups:\n",
        "        param_group[\"lr\"] = lr"
      ]
    },
    {
      "cell_type": "code",
      "execution_count": null,
      "metadata": {
        "colab": {
          "base_uri": "https://localhost:8080/"
        },
        "id": "R9oYtT_hfwWb",
        "outputId": "23c23890-ba54-446f-f90f-f9d4edc0380a"
      },
      "outputs": [
        {
          "name": "stdout",
          "output_type": "stream",
          "text": [
            "=> Loading checkpoint\n",
            "=> Loading checkpoint\n",
            "=> Loading checkpoint\n",
            "=> Loading checkpoint\n"
          ]
        },
        {
          "name": "stderr",
          "output_type": "stream",
          "text": [
            "100%|██████████| 1009/1009 [23:03<00:00,  1.37s/it, H_fake=0.000518, H_real=0.999]\n"
          ]
        },
        {
          "name": "stdout",
          "output_type": "stream",
          "text": [
            "=> Saving checkpoint\n",
            "=> Saving checkpoint\n",
            "=> Saving checkpoint\n",
            "=> Saving checkpoint\n"
          ]
        },
        {
          "name": "stderr",
          "output_type": "stream",
          "text": [
            "100%|██████████| 1009/1009 [21:16<00:00,  1.26s/it, H_fake=0.0416, H_real=0.971] \n"
          ]
        },
        {
          "name": "stdout",
          "output_type": "stream",
          "text": [
            "=> Saving checkpoint\n",
            "=> Saving checkpoint\n",
            "=> Saving checkpoint\n",
            "=> Saving checkpoint\n"
          ]
        },
        {
          "name": "stderr",
          "output_type": "stream",
          "text": [
            "100%|██████████| 1009/1009 [21:18<00:00,  1.27s/it, H_fake=0.00283, H_real=0.997]\n"
          ]
        },
        {
          "name": "stdout",
          "output_type": "stream",
          "text": [
            "=> Saving checkpoint\n",
            "=> Saving checkpoint\n",
            "=> Saving checkpoint\n",
            "=> Saving checkpoint\n"
          ]
        }
      ],
      "source": [
        "def main():\n",
        "    disc_H = Discriminator(in_channels=3).to(DEVICE)\n",
        "    disc_Z = Discriminator(in_channels=3).to(DEVICE)\n",
        "    gen_Z = Generator(img_channels=3, num_residuals=9).to(DEVICE)\n",
        "    gen_H = Generator(img_channels=3, num_residuals=9).to(DEVICE)\n",
        "    opt_disc = optim.Adam(\n",
        "        list(disc_H.parameters()) + list(disc_Z.parameters()),\n",
        "        lr=LEARNING_RATE,\n",
        "        betas=(0.5, 0.999),\n",
        "    )\n",
        "\n",
        "    opt_gen = optim.Adam(\n",
        "        list(gen_Z.parameters()) + list(gen_H.parameters()),\n",
        "        lr=LEARNING_RATE,\n",
        "        betas=(0.5, 0.999),\n",
        "    )\n",
        "\n",
        "    L1 = nn.L1Loss()\n",
        "    mse = nn.MSELoss()\n",
        "\n",
        "    if LOAD_MODEL:\n",
        "        load_checkpoint(\n",
        "            CHECKPOINT_GEN_H,\n",
        "            gen_H,\n",
        "            opt_gen,\n",
        "            LEARNING_RATE,\n",
        "        )\n",
        "        load_checkpoint(\n",
        "            CHECKPOINT_GEN_Z,\n",
        "            gen_Z,\n",
        "            opt_gen,\n",
        "            LEARNING_RATE,\n",
        "        )\n",
        "        load_checkpoint(\n",
        "            CHECKPOINT_CRITIC_H,\n",
        "            disc_H,\n",
        "            opt_disc,\n",
        "            LEARNING_RATE,\n",
        "        )\n",
        "        load_checkpoint(\n",
        "            CHECKPOINT_CRITIC_Z,\n",
        "            disc_Z,\n",
        "            opt_disc,\n",
        "            LEARNING_RATE,\n",
        "        )\n",
        "\n",
        "    dataset = Dset(\n",
        "        root_neutral=\"D:\\\\Gan_data\\\\FAE\\\\neutral\", # D:\\Gan_data\\fane_data\\happy D:\\\\Gan_data\\\\fane_data\\\\happy\\\\Data\\\\\n",
        "        root_happy=\"D:\\\\Gan_data\\\\FAE\\\\happy\", #D:\\Personal Research Dataset\\PR_Facial Data\\train\\happy\n",
        "        transform=transforms,\n",
        "    )\n",
        "    val_dataset = Dset(\n",
        "        root_neutral=\"D:\\\\Gan_data\\\\FAE\\\\neutral\", #D:\\Gan_data\\fane_data\\neutral  D:\\Gan_data\\FAE\\happy\n",
        "        root_happy=\"D:\\\\Gan_data\\\\FAE\\\\happy\",\n",
        "        transform=transforms,\n",
        "    )\n",
        "    val_loader = DataLoader(\n",
        "        val_dataset,\n",
        "        batch_size=5,\n",
        "        shuffle=False,\n",
        "        pin_memory=True,\n",
        "    )\n",
        "    loader = DataLoader(\n",
        "        dataset,\n",
        "        batch_size=5,\n",
        "        shuffle=True,\n",
        "        num_workers=0,\n",
        "        pin_memory=True,\n",
        "    )\n",
        "    g_scaler = torch.cuda.amp.GradScaler()\n",
        "    d_scaler = torch.cuda.amp.GradScaler()\n",
        "\n",
        "    for epoch in range(3):\n",
        "        train_fn(\n",
        "            disc_H,\n",
        "            disc_Z,\n",
        "            gen_Z,\n",
        "            gen_H,\n",
        "            loader,\n",
        "            opt_disc,\n",
        "            opt_gen,\n",
        "            L1,\n",
        "            mse,\n",
        "            d_scaler,\n",
        "            g_scaler,\n",
        "        )\n",
        "\n",
        "        if SAVE_MODEL:\n",
        "            save_checkpoint(gen_H, opt_gen, filename=CHECKPOINT_GEN_H)\n",
        "            save_checkpoint(gen_Z, opt_gen, filename=CHECKPOINT_GEN_Z)\n",
        "            save_checkpoint(disc_H, opt_disc, filename=CHECKPOINT_CRITIC_H)\n",
        "            save_checkpoint(disc_Z, opt_disc, filename=CHECKPOINT_CRITIC_Z)\n",
        "\n",
        "\n",
        "\n",
        "if __name__ == \"__main__\":\n",
        "    main()"
      ]
    },
    {
      "cell_type": "markdown",
      "metadata": {
        "id": "53F0yxI6-amu"
      },
      "source": [
        "SAVE MODEL"
      ]
    },
    {
      "cell_type": "code",
      "execution_count": null,
      "metadata": {
        "id": "lfmBcFlN-amu"
      },
      "outputs": [],
      "source": []
    },
    {
      "cell_type": "code",
      "execution_count": null,
      "metadata": {
        "id": "_LdeItV3-amv"
      },
      "outputs": [],
      "source": [
        "def seed_everything(seed=42):\n",
        "    os.environ[\"PYTHONHASHSEED\"] = str(seed)\n",
        "    random.seed(seed)\n",
        "    np.random.seed(seed)\n",
        "    torch.manual_seed(seed)\n",
        "    torch.cuda.manual_seed(seed)\n",
        "    torch.cuda.manual_seed_all(seed)\n",
        "    torch.backends.cudnn.deterministic = True\n",
        "    torch.backends.cudnn.benchmark = False"
      ]
    },
    {
      "cell_type": "code",
      "execution_count": null,
      "metadata": {
        "id": "4OuNNqiS-amv"
      },
      "outputs": [],
      "source": []
    },
    {
      "cell_type": "markdown",
      "metadata": {
        "id": "xITrsUCgr3v1"
      },
      "source": [
        "Exploratory Data Analysis"
      ]
    },
    {
      "cell_type": "code",
      "execution_count": null,
      "metadata": {
        "colab": {
          "base_uri": "https://localhost:8080/",
          "height": 493
        },
        "id": "oZfCJdP1r3F6",
        "outputId": "b4d92b90-fa06-49fb-f316-30ab7b7d0464"
      },
      "outputs": [
        {
          "name": "stdout",
          "output_type": "stream",
          "text": [
            "<StringArray>\n",
            "['happy', 'surprise', 'anger', 'fear', 'contempt', 'disgust', 'neutral',\n",
            " 'sad']\n",
            "Length: 8, dtype: string\n"
          ]
        },
        {
          "data": {
            "text/html": [
              "<div>\n",
              "<style scoped>\n",
              "    .dataframe tbody tr th:only-of-type {\n",
              "        vertical-align: middle;\n",
              "    }\n",
              "\n",
              "    .dataframe tbody tr th {\n",
              "        vertical-align: top;\n",
              "    }\n",
              "\n",
              "    .dataframe thead th {\n",
              "        text-align: right;\n",
              "    }\n",
              "</style>\n",
              "<table border=\"1\" class=\"dataframe\">\n",
              "  <thead>\n",
              "    <tr style=\"text-align: right;\">\n",
              "      <th></th>\n",
              "      <th>Unnamed: 0</th>\n",
              "      <th>pth</th>\n",
              "      <th>label</th>\n",
              "      <th>relFCs</th>\n",
              "    </tr>\n",
              "  </thead>\n",
              "  <tbody>\n",
              "    <tr>\n",
              "      <th>26583</th>\n",
              "      <td>26583</td>\n",
              "      <td>surprise/image0028359.jpg</td>\n",
              "      <td>happy</td>\n",
              "      <td>0.766860</td>\n",
              "    </tr>\n",
              "    <tr>\n",
              "      <th>25461</th>\n",
              "      <td>25461</td>\n",
              "      <td>surprise/image0016131.jpg</td>\n",
              "      <td>surprise</td>\n",
              "      <td>0.815320</td>\n",
              "    </tr>\n",
              "    <tr>\n",
              "      <th>15154</th>\n",
              "      <td>15154</td>\n",
              "      <td>happy/ffhq_4605.png</td>\n",
              "      <td>happy</td>\n",
              "      <td>0.792100</td>\n",
              "    </tr>\n",
              "    <tr>\n",
              "      <th>14475</th>\n",
              "      <td>14475</td>\n",
              "      <td>happy/ffhq_3994.png</td>\n",
              "      <td>happy</td>\n",
              "      <td>0.856344</td>\n",
              "    </tr>\n",
              "    <tr>\n",
              "      <th>20855</th>\n",
              "      <td>20855</td>\n",
              "      <td>neutral/ffhq_7.png</td>\n",
              "      <td>surprise</td>\n",
              "      <td>0.798794</td>\n",
              "    </tr>\n",
              "    <tr>\n",
              "      <th>...</th>\n",
              "      <td>...</td>\n",
              "      <td>...</td>\n",
              "      <td>...</td>\n",
              "      <td>...</td>\n",
              "    </tr>\n",
              "    <tr>\n",
              "      <th>6164</th>\n",
              "      <td>6164</td>\n",
              "      <td>disgust/image0026800.jpg</td>\n",
              "      <td>disgust</td>\n",
              "      <td>0.666458</td>\n",
              "    </tr>\n",
              "    <tr>\n",
              "      <th>23603</th>\n",
              "      <td>23603</td>\n",
              "      <td>sad/image0027431.jpg</td>\n",
              "      <td>happy</td>\n",
              "      <td>0.810706</td>\n",
              "    </tr>\n",
              "    <tr>\n",
              "      <th>16798</th>\n",
              "      <td>16798</td>\n",
              "      <td>neutral/ffhq_1545.png</td>\n",
              "      <td>neutral</td>\n",
              "      <td>0.727815</td>\n",
              "    </tr>\n",
              "    <tr>\n",
              "      <th>309</th>\n",
              "      <td>309</td>\n",
              "      <td>anger/image0006147.jpg</td>\n",
              "      <td>anger</td>\n",
              "      <td>0.895342</td>\n",
              "    </tr>\n",
              "    <tr>\n",
              "      <th>4832</th>\n",
              "      <td>4832</td>\n",
              "      <td>contempt/image0038767.jpg</td>\n",
              "      <td>contempt</td>\n",
              "      <td>0.825512</td>\n",
              "    </tr>\n",
              "  </tbody>\n",
              "</table>\n",
              "<p>28175 rows × 4 columns</p>\n",
              "</div>"
            ],
            "text/plain": [
              "       Unnamed: 0                        pth     label    relFCs\n",
              "26583       26583  surprise/image0028359.jpg     happy  0.766860\n",
              "25461       25461  surprise/image0016131.jpg  surprise  0.815320\n",
              "15154       15154        happy/ffhq_4605.png     happy  0.792100\n",
              "14475       14475        happy/ffhq_3994.png     happy  0.856344\n",
              "20855       20855         neutral/ffhq_7.png  surprise  0.798794\n",
              "...           ...                        ...       ...       ...\n",
              "6164         6164   disgust/image0026800.jpg   disgust  0.666458\n",
              "23603       23603       sad/image0027431.jpg     happy  0.810706\n",
              "16798       16798      neutral/ffhq_1545.png   neutral  0.727815\n",
              "309           309     anger/image0006147.jpg     anger  0.895342\n",
              "4832         4832  contempt/image0038767.jpg  contempt  0.825512\n",
              "\n",
              "[28175 rows x 4 columns]"
            ]
          },
          "execution_count": 13,
          "metadata": {},
          "output_type": "execute_result"
        }
      ],
      "source": [
        "import pandas as pd\n",
        "from sklearn.utils import shuffle\n",
        "Train_Classification = pd.read_csv('D:\\\\Gan_data\\\\FAE\\\\labels.csv')\n",
        "Train_Classification = shuffle(Train_Classification,random_state = 9417)\n",
        "Train_Classification['label'] = pd.Series(Train_Classification['label'], dtype=\"string\")\n",
        "print(Train_Classification['label'].unique())\n",
        "Train_Classification\n"
      ]
    },
    {
      "cell_type": "code",
      "execution_count": null,
      "metadata": {
        "id": "r4TuU8La-amw"
      },
      "outputs": [],
      "source": [
        "import matplotlib.pyplot as plt\n",
        "import pandas as pd\n",
        "import numpy as np\n",
        "from tqdm.notebook import tqdm  # progress bar\n",
        "\n",
        "import json\n",
        "import cv2\n",
        "import copy\n",
        "from typing import Optional\n",
        "import seaborn as sns\n"
      ]
    },
    {
      "cell_type": "code",
      "execution_count": null,
      "metadata": {
        "id": "haZ2R1aV-amw",
        "outputId": "451d5731-a0e2-43e6-bec9-a95e283b36dc"
      },
      "outputs": [
        {
          "data": {
            "text/plain": [
              "label\n",
              "surprise    4616\n",
              "happy       4336\n",
              "anger       3608\n",
              "disgust     3472\n",
              "contempt    3244\n",
              "fear        3043\n",
              "sad         2995\n",
              "neutral     2861\n",
              "Name: count, dtype: Int64"
            ]
          },
          "execution_count": 15,
          "metadata": {},
          "output_type": "execute_result"
        }
      ],
      "source": [
        "Train_Classification['label'].value_counts()"
      ]
    },
    {
      "cell_type": "code",
      "execution_count": null,
      "metadata": {
        "id": "bfP7m4VA-amx",
        "outputId": "50d085b9-3983-43b0-9c93-a62b7cbf806c"
      },
      "outputs": [
        {
          "data": {
            "text/html": [
              "<div>\n",
              "<style scoped>\n",
              "    .dataframe tbody tr th:only-of-type {\n",
              "        vertical-align: middle;\n",
              "    }\n",
              "\n",
              "    .dataframe tbody tr th {\n",
              "        vertical-align: top;\n",
              "    }\n",
              "\n",
              "    .dataframe thead th {\n",
              "        text-align: right;\n",
              "    }\n",
              "</style>\n",
              "<table border=\"1\" class=\"dataframe\">\n",
              "  <thead>\n",
              "    <tr style=\"text-align: right;\">\n",
              "      <th></th>\n",
              "      <th>label</th>\n",
              "      <th>image_count</th>\n",
              "      <th>category_name</th>\n",
              "    </tr>\n",
              "  </thead>\n",
              "  <tbody>\n",
              "    <tr>\n",
              "      <th>0</th>\n",
              "      <td>anger</td>\n",
              "      <td>3608</td>\n",
              "      <td>surprise</td>\n",
              "    </tr>\n",
              "    <tr>\n",
              "      <th>1</th>\n",
              "      <td>contempt</td>\n",
              "      <td>3244</td>\n",
              "      <td>anger</td>\n",
              "    </tr>\n",
              "    <tr>\n",
              "      <th>2</th>\n",
              "      <td>disgust</td>\n",
              "      <td>3472</td>\n",
              "      <td>anger</td>\n",
              "    </tr>\n",
              "    <tr>\n",
              "      <th>3</th>\n",
              "      <td>fear</td>\n",
              "      <td>3043</td>\n",
              "      <td>disgust</td>\n",
              "    </tr>\n",
              "    <tr>\n",
              "      <th>4</th>\n",
              "      <td>happy</td>\n",
              "      <td>4336</td>\n",
              "      <td>anger</td>\n",
              "    </tr>\n",
              "    <tr>\n",
              "      <th>5</th>\n",
              "      <td>neutral</td>\n",
              "      <td>2861</td>\n",
              "      <td>anger</td>\n",
              "    </tr>\n",
              "    <tr>\n",
              "      <th>6</th>\n",
              "      <td>sad</td>\n",
              "      <td>2995</td>\n",
              "      <td>anger</td>\n",
              "    </tr>\n",
              "    <tr>\n",
              "      <th>7</th>\n",
              "      <td>surprise</td>\n",
              "      <td>4616</td>\n",
              "      <td>anger</td>\n",
              "    </tr>\n",
              "  </tbody>\n",
              "</table>\n",
              "</div>"
            ],
            "text/plain": [
              "      label  image_count category_name\n",
              "0     anger         3608      surprise\n",
              "1  contempt         3244         anger\n",
              "2   disgust         3472         anger\n",
              "3      fear         3043       disgust\n",
              "4     happy         4336         anger\n",
              "5   neutral         2861         anger\n",
              "6       sad         2995         anger\n",
              "7  surprise         4616         anger"
            ]
          },
          "execution_count": 16,
          "metadata": {},
          "output_type": "execute_result"
        }
      ],
      "source": [
        "categorywise_image_count=Train_Classification.groupby('label', as_index=False)['pth'].nunique()\n",
        "categorywise_image_count['category_name']=Train_Classification['label']\n",
        "categorywise_image_count.rename(columns={'pth':'image_count'}, inplace=True)\n",
        "categorywise_image_count"
      ]
    },
    {
      "cell_type": "code",
      "execution_count": null,
      "metadata": {
        "id": "jyahO4Zw-amy",
        "outputId": "1e532f51-3461-47e6-e651-d0ff1866062b"
      },
      "outputs": [
        {
          "data": {
            "text/html": [
              "<div>\n",
              "<style scoped>\n",
              "    .dataframe tbody tr th:only-of-type {\n",
              "        vertical-align: middle;\n",
              "    }\n",
              "\n",
              "    .dataframe tbody tr th {\n",
              "        vertical-align: top;\n",
              "    }\n",
              "\n",
              "    .dataframe thead th {\n",
              "        text-align: right;\n",
              "    }\n",
              "</style>\n",
              "<table border=\"1\" class=\"dataframe\">\n",
              "  <thead>\n",
              "    <tr style=\"text-align: right;\">\n",
              "      <th></th>\n",
              "      <th>label</th>\n",
              "      <th>category_name</th>\n",
              "      <th>image_count</th>\n",
              "    </tr>\n",
              "  </thead>\n",
              "  <tbody>\n",
              "    <tr>\n",
              "      <th>0</th>\n",
              "      <td>anger</td>\n",
              "      <td>surprise</td>\n",
              "      <td>3608</td>\n",
              "    </tr>\n",
              "    <tr>\n",
              "      <th>1</th>\n",
              "      <td>contempt</td>\n",
              "      <td>anger</td>\n",
              "      <td>3244</td>\n",
              "    </tr>\n",
              "    <tr>\n",
              "      <th>2</th>\n",
              "      <td>disgust</td>\n",
              "      <td>anger</td>\n",
              "      <td>3472</td>\n",
              "    </tr>\n",
              "    <tr>\n",
              "      <th>3</th>\n",
              "      <td>fear</td>\n",
              "      <td>disgust</td>\n",
              "      <td>3043</td>\n",
              "    </tr>\n",
              "    <tr>\n",
              "      <th>4</th>\n",
              "      <td>happy</td>\n",
              "      <td>anger</td>\n",
              "      <td>4336</td>\n",
              "    </tr>\n",
              "    <tr>\n",
              "      <th>5</th>\n",
              "      <td>neutral</td>\n",
              "      <td>anger</td>\n",
              "      <td>2861</td>\n",
              "    </tr>\n",
              "    <tr>\n",
              "      <th>6</th>\n",
              "      <td>sad</td>\n",
              "      <td>anger</td>\n",
              "      <td>2995</td>\n",
              "    </tr>\n",
              "    <tr>\n",
              "      <th>7</th>\n",
              "      <td>surprise</td>\n",
              "      <td>anger</td>\n",
              "      <td>4616</td>\n",
              "    </tr>\n",
              "  </tbody>\n",
              "</table>\n",
              "</div>"
            ],
            "text/plain": [
              "      label category_name  image_count\n",
              "0     anger      surprise         3608\n",
              "1  contempt         anger         3244\n",
              "2   disgust         anger         3472\n",
              "3      fear       disgust         3043\n",
              "4     happy         anger         4336\n",
              "5   neutral         anger         2861\n",
              "6       sad         anger         2995\n",
              "7  surprise         anger         4616"
            ]
          },
          "execution_count": 17,
          "metadata": {},
          "output_type": "execute_result"
        }
      ],
      "source": [
        "categorywise_image_count = categorywise_image_count[['label', 'category_name', 'image_count']]\n",
        "categorywise_image_count"
      ]
    },
    {
      "cell_type": "code",
      "execution_count": null,
      "metadata": {
        "id": "Mp0Vzjrb-amy",
        "outputId": "1091331e-2636-4bc5-f841-cd20e4c32588"
      },
      "outputs": [
        {
          "data": {
            "text/plain": [
              "<Axes: title={'center': 'Distribution of Images Across  Categories'}, xlabel='label', ylabel='image_count'>"
            ]
          },
          "execution_count": 18,
          "metadata": {},
          "output_type": "execute_result"
        },
        {
          "data": {
            "image/png": "[encoded data removed]",
            "text/plain": [
              "<Figure size 640x480 with 1 Axes>"
            ]
          },
          "metadata": {},
          "output_type": "display_data"
        }
      ],
      "source": [
        "plt.title(\"Distribution of Images Across  Categories\")\n",
        "sns.barplot(x=categorywise_image_count['label'], y=categorywise_image_count['image_count'])"
      ]
    },
    {
      "cell_type": "code",
      "execution_count": null,
      "metadata": {
        "id": "xKNjX9CrAWAg"
      },
      "outputs": [],
      "source": [
        "import torch\n",
        "from torchvision import transforms\n",
        "from PIL import Image\n",
        "#from your_cyclegan_model import Generator\n",
        "\n",
        "# Load the trained generator models\n",
        "generator_h = Generator(3,64)\n",
        "generator_z = Generator(3,64)\n",
        "generator_h.load_state_dict(torch.load(\"D:\\\\Personal Research Dataset\\\\GAN\\\\genh.pth.tar\")['state_dict'])\n",
        "generator_z.load_state_dict(torch.load(\"D:\\\\Personal Research Dataset\\\\GAN\\\\genh.pth.tar\")['state_dict'])\n",
        "generator_h.eval()\n",
        "generator_z.eval()\n",
        "\n",
        "# Define image preprocessing transforms\n",
        "preprocess = transforms.Compose([\n",
        "    transforms.Resize((256, 256)),\n",
        "    transforms.ToTensor(),\n",
        "    transforms.Normalize(mean=[0.5, 0.5, 0.5], std=[0.5, 0.5, 0.5])\n",
        "])\n",
        "\n",
        "# Load and preprocess the input image\n",
        "input_image = Image.open('D:\\\\Gan_data\\\\FAE\\\\happy\\\\ffhq_100.png')\n",
        "input_tensor = preprocess(input_image).unsqueeze(0)\n",
        "\n",
        "# Perform inference\n",
        "with torch.no_grad():\n",
        "    output_tensor_h = generator_h(input_tensor)\n",
        "    output_tensor_z = generator_z(input_tensor)\n",
        "\n",
        "# Convert the output tensors to PIL images\n",
        "output_image_h = transforms.ToPILImage()(output_tensor_h.squeeze())\n",
        "output_image_z = transforms.ToPILImage()(output_tensor_z.squeeze())\n",
        "\n",
        "# Save or display the output images\n",
        "output_image_h.save('output_image_h.jpg')\n",
        "output_image_h.show()\n",
        "\n",
        "output_image_z.save('output_image_z.jpg')\n",
        "output_image_z.show()"
      ]
    },
    {
      "cell_type": "code",
      "execution_count": null,
      "metadata": {
        "id": "wVOBLjx--amz"
      },
      "outputs": [],
      "source": []
    }
  ],
  "metadata": {
    "colab": {
      "provenance": []
    },
    "kernelspec": {
      "display_name": "Python 3 (ipykernel)",
      "language": "python",
      "name": "python3"
    },
    "language_info": {
      "codemirror_mode": {
        "name": "ipython",
        "version": 3
      },
      "file_extension": ".py",
      "mimetype": "text/x-python",
      "name": "python",
      "nbconvert_exporter": "python",
      "pygments_lexer": "ipython3",
      "version": "3.9.17"
    }
  },
  "nbformat": 4,
  "nbformat_minor": 0
}